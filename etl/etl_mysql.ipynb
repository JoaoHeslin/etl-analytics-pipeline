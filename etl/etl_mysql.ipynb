{
 "cells": [
  {
   "cell_type": "code",
   "execution_count": 130,
   "id": "eed6f659",
   "metadata": {},
   "outputs": [],
   "source": [
    "import pandas as pd\n",
    "from sqlalchemy import create_engine\n",
    "import os\n",
    "import warnings\n",
    "warnings.filterwarnings(\"ignore\")"
   ]
  },
  {
   "cell_type": "markdown",
   "id": "777063f5",
   "metadata": {},
   "source": [
    "## Tratar os dados para enviar para o Banco"
   ]
  },
  {
   "cell_type": "code",
   "execution_count": null,
   "id": "af8cebaa",
   "metadata": {},
   "outputs": [],
   "source": [
    "usuario = \"****\"\n",
    "senha = \"****\"\n",
    "host = \"****\"\n",
    "porta = \"****\"\n",
    "banco = \"****\"\n",
    "engine = create_engine(f\"mysql+pymysql://{usuario}:{senha}@{host}:{porta}/{banco}\")"
   ]
  },
  {
   "cell_type": "code",
   "execution_count": null,
   "id": "a7b4f491",
   "metadata": {},
   "outputs": [],
   "source": [
    "def tratar_e_inserir_dados(nome_arquivo, caminho_arquivo):\n",
    "    extensao = os.path.splitext(caminho_arquivo)[1].lower()\n",
    "    \n",
    "    if extensao == \".xlsx\":\n",
    "       df = pd.read_excel(caminho_arquivo)\n",
    "    elif extensao == \".txt\":\n",
    "        df = pd.read_csv(caminho_arquivo, sep=\"\\t\", encoding=\"utf-16-le\")\n",
    "    else:\n",
    "        raise ValueError(\"Formato de arquivo não suportado.\")\n",
    "    \n",
    "    df.columns = df.columns.str.strip().str.lower().str.replace(\" \", \"_\").str.replace(r\"[\\\"'‘’“”]\", \"\", regex=True)\n",
    "    df = df.applymap(lambda x: x.replace(\"'\", \"\").replace(\" \", \"_\").replace(\",\", \".\") if isinstance(x, str) else x)\n",
    "\n",
    "    df.reset_index(drop=True, inplace=True)\n",
    "    df.dropna(how=\"all\", inplace=True)\n",
    "    df.drop_duplicates(inplace=True)\n",
    "    \n",
    "    nome = os.path.splitext(nome_arquivo)[0]\n",
    "    df.to_sql(nome, con=engine, if_exists=\"replace\", index=False)"
   ]
  },
  {
   "cell_type": "markdown",
   "id": "cfc94e93",
   "metadata": {},
   "source": [
    "## Enviando os Dados para o Banco"
   ]
  },
  {
   "cell_type": "code",
   "execution_count": null,
   "id": "c1f96841",
   "metadata": {},
   "outputs": [],
   "source": [
    "def enviar_dados(pasta):\n",
    "    for nome_arquivo in os.listdir(pasta):\n",
    "        caminho_arquivo = os.path.join(pasta, nome_arquivo)\n",
    "        \n",
    "        if os.path.isfile(caminho_arquivo):\n",
    "            try:\n",
    "                tratar_e_inserir_dados(nome_arquivo, caminho_arquivo)\n",
    "                print(f\"Dados do arquivo {nome_arquivo} enviados com sucesso.\")\n",
    "            except Exception as e:\n",
    "                print(f\"Erro ao processar o arquivo {nome_arquivo}: {e}\")"
   ]
  },
  {
   "cell_type": "code",
   "execution_count": null,
   "id": "2d0255e9",
   "metadata": {},
   "outputs": [
    {
     "name": "stdout",
     "output_type": "stream",
     "text": [
      "Dados do arquivo Canal.xlsx enviados com sucesso.\n",
      "Dados do arquivo Categoria.xlsx enviados com sucesso.\n",
      "Dados do arquivo Cidade.xlsx enviados com sucesso.\n",
      "Dados do arquivo Clientes.txt enviados com sucesso.\n",
      "Dados do arquivo Marca.xlsx enviados com sucesso.\n",
      "Dados do arquivo Produto.xlsx enviados com sucesso.\n",
      "Dados do arquivo Subcategoria.xlsx enviados com sucesso.\n",
      "Dados do arquivo vendas_2010_2021.xlsx enviados com sucesso.\n"
     ]
    }
   ],
   "source": [
    "pasta = \"../dados\"\n",
    "enviar_dados(pasta)"
   ]
  }
 ],
 "metadata": {
  "kernelspec": {
   "display_name": "Python 3",
   "language": "python",
   "name": "python3"
  },
  "language_info": {
   "codemirror_mode": {
    "name": "ipython",
    "version": 3
   },
   "file_extension": ".py",
   "mimetype": "text/x-python",
   "name": "python",
   "nbconvert_exporter": "python",
   "pygments_lexer": "ipython3",
   "version": "3.10.11"
  }
 },
 "nbformat": 4,
 "nbformat_minor": 5
}
